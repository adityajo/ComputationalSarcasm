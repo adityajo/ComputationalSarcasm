{
 "cells": [
  {
   "cell_type": "code",
   "execution_count": 25,
   "metadata": {
    "collapsed": false,
    "scrolled": true
   },
   "outputs": [
    {
     "name": "stdout",
     "output_type": "stream",
     "text": [
      "Hello world\n"
     ]
    }
   ],
   "source": [
    "print('Hello world')"
   ]
  },
  {
   "cell_type": "code",
   "execution_count": 2,
   "metadata": {
    "collapsed": false,
    "scrolled": true
   },
   "outputs": [],
   "source": [
    "from gensim.models import Word2Vec as wv"
   ]
  },
  {
   "cell_type": "code",
   "execution_count": 2,
   "metadata": {
    "collapsed": false,
    "scrolled": true
   },
   "outputs": [],
   "source": [
    "import pickle\n",
    "with open('/Users/adityaj/EN_100k.LSA.pkl', 'rb') as infile:\n",
    "    model = pickle.load( infile);"
   ]
  },
  {
   "cell_type": "code",
   "execution_count": 27,
   "metadata": {
    "collapsed": false,
    "scrolled": false
   },
   "outputs": [
    {
     "ename": "NameError",
     "evalue": "name 'wv' is not defined",
     "output_type": "error",
     "traceback": [
      "\u001b[0;31m---------------------------------------------------------------------------\u001b[0m",
      "\u001b[0;31mNameError\u001b[0m                                 Traceback (most recent call last)",
      "\u001b[0;32m<ipython-input-27-ca2fc3533cf5>\u001b[0m in \u001b[0;36m<module>\u001b[0;34m()\u001b[0m\n\u001b[0;32m----> 1\u001b[0;31m \u001b[0mmo\u001b[0m \u001b[0;34m=\u001b[0m \u001b[0mwv\u001b[0m\u001b[0;34m.\u001b[0m\u001b[0mload_word2vec_format\u001b[0m\u001b[0;34m(\u001b[0m\u001b[0;34m'/Users/adityaj/DeepLearning/deps.words'\u001b[0m\u001b[0;34m)\u001b[0m\u001b[0;34m\u001b[0m\u001b[0m\n\u001b[0m",
      "\u001b[0;31mNameError\u001b[0m: name 'wv' is not defined"
     ]
    }
   ],
   "source": [
    "mo = wv.load_word2vec_format('/Users/adityaj/DeepLearning/deps.words')"
   ]
  },
  {
   "cell_type": "code",
   "execution_count": 3,
   "metadata": {
    "collapsed": false,
    "scrolled": false
   },
   "outputs": [],
   "source": [
    "mo = wv.load_word2vec_format('/Users/adityaj/DeepLearning/GoogleNews-vectors-negative300.bin', binary = True)"
   ]
  },
  {
   "cell_type": "code",
   "execution_count": 4,
   "metadata": {
    "collapsed": false,
    "scrolled": true
   },
   "outputs": [
    {
     "data": {
      "text/plain": [
       "[('tigers', 0.6539301872253418),\n",
       " ('elephant', 0.5927665829658508),\n",
       " ('tigress', 0.591227650642395),\n",
       " ('elephants', 0.5779013633728027),\n",
       " ('leopard', 0.559941291809082),\n",
       " ('rhino', 0.5523566007614136),\n",
       " ('leopard_cub', 0.5368373990058899),\n",
       " ('Bengal_tiger', 0.5353660583496094),\n",
       " ('cougar', 0.5340732336044312),\n",
       " ('Sumatran_tiger', 0.5254982709884644)]"
      ]
     },
     "execution_count": 4,
     "metadata": {},
     "output_type": "execute_result"
    }
   ],
   "source": [
    "mo.most_similar(positive=['tiger', 'woman'], negative=['man']) "
   ]
  },
  {
   "cell_type": "code",
   "execution_count": 7,
   "metadata": {
    "collapsed": false,
    "scrolled": false
   },
   "outputs": [],
   "source": [
    "mo = ()"
   ]
  },
  {
   "cell_type": "code",
   "execution_count": 5,
   "metadata": {
    "collapsed": false
   },
   "outputs": [
    {
     "name": "stdout",
     "output_type": "stream",
     "text": [
      "kaay re\n"
     ]
    }
   ],
   "source": [
    "if 'aditya' in mo.vocab and 'man' in mo.vocab:\n",
    "    print(mo.similarity('man','aditya'))\n",
    "else:\n",
    "    print('kaay re')"
   ]
  },
  {
   "cell_type": "code",
   "execution_count": 6,
   "metadata": {
    "collapsed": false,
    "scrolled": true
   },
   "outputs": [
    {
     "data": {
      "text/plain": [
       "'breast'"
      ]
     },
     "execution_count": 6,
     "metadata": {},
     "output_type": "execute_result"
    }
   ],
   "source": [
    "mo.doesnt_match(['man','girl','woman','breast'])"
   ]
  },
  {
   "cell_type": "code",
   "execution_count": 14,
   "metadata": {
    "collapsed": false
   },
   "outputs": [
    {
     "data": {
      "text/plain": [
       "'brinjal'"
      ]
     },
     "execution_count": 14,
     "metadata": {},
     "output_type": "execute_result"
    }
   ],
   "source": [
    "mo.doesnt_match(['laptop','tablet','cellphone','brinjal'])"
   ]
  },
  {
   "cell_type": "code",
   "execution_count": 8,
   "metadata": {
    "collapsed": false
   },
   "outputs": [
    {
     "name": "stdout",
     "output_type": "stream",
     "text": [
      "0.923643\n"
     ]
    },
    {
     "name": "stderr",
     "output_type": "stream",
     "text": [
      "//anaconda/lib/python3.5/site-packages/sklearn/utils/validation.py:386: DeprecationWarning: Passing 1d arrays as data is deprecated in 0.17 and willraise ValueError in 0.19. Reshape your data either using X.reshape(-1, 1) if your data has a single feature or X.reshape(1, -1) if it contains a single sample.\n",
      "  DeprecationWarning)\n",
      "//anaconda/lib/python3.5/site-packages/sklearn/utils/validation.py:386: DeprecationWarning: Passing 1d arrays as data is deprecated in 0.17 and willraise ValueError in 0.19. Reshape your data either using X.reshape(-1, 1) if your data has a single feature or X.reshape(1, -1) if it contains a single sample.\n",
      "  DeprecationWarning)\n"
     ]
    }
   ],
   "source": [
    "from sklearn.metrics.pairwise import cosine_similarity;\n",
    "\n",
    "print(cosine_similarity( model[ 'dog'], model[ 'cat'])[ 0][ 0])"
   ]
  },
  {
   "cell_type": "code",
   "execution_count": 12,
   "metadata": {
    "collapsed": false
   },
   "outputs": [
    {
     "data": {
      "text/plain": [
       "'joint'"
      ]
     },
     "execution_count": 12,
     "metadata": {},
     "output_type": "execute_result"
    }
   ],
   "source": [
    "mo.doesnt_match(['cigarette','cigar','joint','chair'])"
   ]
  },
  {
   "cell_type": "code",
   "execution_count": 13,
   "metadata": {
    "collapsed": false,
    "scrolled": true
   },
   "outputs": [
    {
     "data": {
      "text/plain": [
       "0.25206904177248868"
      ]
     },
     "execution_count": 13,
     "metadata": {},
     "output_type": "execute_result"
    }
   ],
   "source": [
    "mo.similarity('happy','complimented')"
   ]
  },
  {
   "cell_type": "code",
   "execution_count": 5,
   "metadata": {
    "collapsed": false,
    "scrolled": true
   },
   "outputs": [
    {
     "data": {
      "text/plain": [
       "'cricket'"
      ]
     },
     "execution_count": 5,
     "metadata": {},
     "output_type": "execute_result"
    }
   ],
   "source": [
    "mo.doesnt_match(['knife','sword','scissors','cricket'])"
   ]
  },
  {
   "cell_type": "code",
   "execution_count": 18,
   "metadata": {
    "collapsed": false
   },
   "outputs": [
    {
     "data": {
      "text/plain": [
       "'crocodile'"
      ]
     },
     "execution_count": 18,
     "metadata": {},
     "output_type": "execute_result"
    }
   ],
   "source": [
    "mo.doesnt_match(['man','woman','crocodile'])"
   ]
  },
  {
   "cell_type": "code",
   "execution_count": 8,
   "metadata": {
    "collapsed": true
   },
   "outputs": [],
   "source": [
    "sentence = 'man needs woman like fish needs bicycle'"
   ]
  },
  {
   "cell_type": "code",
   "execution_count": 8,
   "metadata": {
    "collapsed": false,
    "scrolled": true
   },
   "outputs": [
    {
     "name": "stdout",
     "output_type": "stream",
     "text": [
      "man woman: 0.7664012231\n",
      "man needs: 0.0780159361232\n",
      "man fish: 0.15138971681\n",
      "man bicycle: 0.229792607721\n",
      "woman man: 0.7664012231\n",
      "woman needs: 0.0604214984929\n",
      "woman fish: 0.0845332487542\n",
      "woman bicycle: 0.22981623141\n",
      "needs man: 0.0780159361232\n",
      "needs woman: 0.0604214984929\n",
      "needs fish: 0.0221734283642\n",
      "needs bicycle: 0.0600201220156\n",
      "fish man: 0.15138971681\n",
      "fish woman: 0.0845332487542\n",
      "fish needs: 0.0221734283642\n",
      "fish bicycle: 0.130848641601\n",
      "bicycle man: 0.229792607721\n",
      "bicycle woman: 0.22981623141\n",
      "bicycle needs: 0.0600201220156\n",
      "bicycle fish: 0.130848641601\n"
     ]
    }
   ],
   "source": [
    "word_list = ['man', 'woman', 'needs', 'fish', 'bicycle']\n",
    "\n",
    "for e1 in word_list:\n",
    "        if e1 not in mo.vocab:\n",
    "            continue\n",
    "        output = e1+\"\\t\"\n",
    "        same_list = []\n",
    "        weighted_list = []\n",
    "        for e2 in word_list:\n",
    "            \n",
    "            if e2 not in mo.vocab:\n",
    "                continue\n",
    "                \n",
    "            if e1 == e2:\n",
    "         #   output += '0\\t'\n",
    "                continue\n",
    "            \n",
    "            print(str(e1)+' '+str(e2)+': '+str(mo.similarity(e1,e2)))\n",
    "    "
   ]
  },
  {
   "cell_type": "code",
   "execution_count": 9,
   "metadata": {
    "collapsed": false
   },
   "outputs": [],
   "source": [
    "import pickle\n",
    "deprel = pickle.load(open('deprel.p','rb'))"
   ]
  },
  {
   "cell_type": "code",
   "execution_count": 47,
   "metadata": {
    "collapsed": false,
    "scrolled": false
   },
   "outputs": [],
   "source": [
    "import re\n",
    "\n",
    "def f3(seq):\n",
    "   # Not order preserving\n",
    "   keys = {}\n",
    "   for e in seq:\n",
    "       keys[e] = 1\n",
    "   return list(keys.keys())\n",
    "\n",
    "\n",
    "def get_distance(sentence):\n",
    "    dic1 = {}\n",
    "    words = sentence.split(' ')\n",
    "    index = 0\n",
    "    for word in words:\n",
    "        dic1[word] = index\n",
    "        index += 1\n",
    "    return dic1\n",
    "\n",
    "\n",
    "filename = '/Users/adityaj/DeepLearning/Datasets/GoodReads/sarcasm_vs_philosophy/run5/test'\n",
    "f = open(filename,'r')\n",
    "of = open(filename+'.wv_unweighted','w')\n",
    "\n",
    "for line in f:\n",
    "    line = line.strip().lower()    \n",
    "    contents = line.split('\\t')\n",
    "    sentence = contents[0]\n",
    "    words = re.findall(r\"[\\w']+|[.,!?;]\",sentence)\n",
    "    words\n",
    "    max_same = []\n",
    "    min_same = []\n",
    "    max_weighted = []\n",
    "    min_weighted = []\n",
    "\n",
    "    word_list = f3(sentence.split(' '))\n",
    "\n",
    "    dic1 = get_distance(sentence)\n",
    "    \n",
    "    \n",
    "\n",
    "    for e1 in word_list:\n",
    "        if e1 not in mo.vocab:\n",
    "            continue\n",
    "        output = e1+\"\\t\"\n",
    "        same_list = []\n",
    "        weighted_list = []\n",
    "        for e2 in word_list:\n",
    "            \n",
    "            if e2 not in mo.vocab:\n",
    "                continue\n",
    "                \n",
    "            if e1 == e2:\n",
    "         #   output += '0\\t'\n",
    "                continue\n",
    "            \n",
    "            weighted_list.append(mo.similarity(e1,e2)/(dic1[e1] - dic1[e2])*2)\n",
    "            same_list.append(mo.similarity(e1,e2))\n",
    "            \n",
    "           \n",
    "    \n",
    "    #print (weighted_list)\n",
    "        #output += str(mo.similarity(e1,e2))+'\\t'\n",
    "        #output += \"|\"+ str(max(same_list))+'\\t' + '|'+str(min(same_list))+'\\t' + \"|\"+str(max(weighted_list))+'\\t' + '|'+str(min(weighted_list))+'\\t'\n",
    "    #print(same_list)\n",
    "    \n",
    "        if len(same_list) != 0:\n",
    "            max_same.append (max(same_list))\n",
    "            min_same.append(min(same_list))\n",
    "        else:\n",
    "            min_same.append(0)           \n",
    "            max_same.append(0)\n",
    "        \n",
    "        if len(weighted_list) != 0:\n",
    "            min_weighted.append(min(weighted_list))\n",
    "            max_weighted.append(max(weighted_list))\n",
    "        else:\n",
    "            min_weighted.append(0)\n",
    "            max_weighted.append(0)\n",
    "    #print(min_same)  \n",
    "          \n",
    "    min_same.append(0)\n",
    "    max_same.append(0)\n",
    "    min_weighted.append(0)\n",
    "    max_weighted.append(0)\n",
    "    \n",
    "    stt = (\n",
    "        '13250:'+str(max(max_same))+' 13251:'+str(min(max_same))+\n",
    "           ' 13252:'+str(max(min_same))+' 13253:'+str(min(min_same))\n",
    "        #  ' 13254:'+str(max(max_weighted))+' 13255:'+str(min(max_weighted))+\n",
    "         # ' 13256:'+str(max(min_weighted))+' 13257:'+str(min(min_weighted))\n",
    "        )\n",
    "   # print(stt)\n",
    "    of.write(stt.strip()+' # '+line+'\\n')\n",
    "\n",
    "of.close()\n",
    "f.close()"
   ]
  },
  {
   "cell_type": "code",
   "execution_count": null,
   "metadata": {
    "collapsed": false
   },
   "outputs": [],
   "source": [
    "import re\n",
    "from sklearn.metrics.pairwise import cosine_similarity;\n",
    "import warnings\n",
    "warnings.filterwarnings('ignore')\n",
    "\n",
    "import pickle\n",
    "with open('/Users/adityaj/DeepLearning/filtered_models/google.pkl_filtered', 'rb') as infile:\n",
    "    model = pickle.load( infile);\n",
    "\n",
    "def f3(seq):\n",
    "   # Not order preserving\n",
    "   keys = {}\n",
    "   for e in seq:\n",
    "       keys[e] = 1\n",
    "   return list(keys.keys())\n",
    "\n",
    "\n",
    "def get_distance(sentence):\n",
    "    dic1 = {}\n",
    "    words = sentence.split(' ')\n",
    "    index = 0\n",
    "    for word in words:\n",
    "        dic1[word] = index\n",
    "        index += 1\n",
    "    return dic1\n",
    "\n",
    "\n",
    "\n",
    "\n",
    "def func_re_func(filename):\n",
    "    f = open(filename,'r')\n",
    "    of3 = open(filename+'.wv_unweighted.f.wv.int','w')\n",
    "    of = open(filename+'.wv_weighted.f.wv.int','w')\n",
    "    of2 = open(filename+'.wv_both.f.wv.int','w')\n",
    "    for line in f:\n",
    "        line = line.strip().lower()    \n",
    "        contents = line.split('\\t')\n",
    "        sentence = contents[0]\n",
    "        words = re.findall(r\"[\\w']+|[.,!?;]\",sentence)\n",
    "        \n",
    "        max_same = []\n",
    "        min_same = []\n",
    "        max_weighted = []\n",
    "        min_weighted = []\n",
    "\n",
    "        word_list = f3(sentence.split(' '))\n",
    "\n",
    "        dic1 = get_distance(sentence)\n",
    "    \n",
    "    \n",
    "\n",
    "        for e1 in word_list:\n",
    "            if e1 not in model.keys():\n",
    "                continue\n",
    "            output = e1+\"\\t\"\n",
    "            same_list = []\n",
    "            weighted_list = []\n",
    "            for e2 in word_list:\n",
    "            \n",
    "                if e2 not in model.keys():\n",
    "                    continue\n",
    "                \n",
    "                if e1 == e2:\n",
    "         #   output += '0\\t'\n",
    "                    continue\n",
    "            \n",
    "                weighted_list.append(cosine_similarity( model[e1], model[e2])[ 0][ 0]/(dic1[e1] - dic1[e2])*2)\n",
    "                same_list.append(cosine_similarity( model[e1], model[e2])[ 0][ 0])\n",
    "            \n",
    "           \n",
    "    \n",
    "    #print (weighted_list)\n",
    "        #output += str(mo.similarity(e1,e2))+'\\t'\n",
    "        #output += \"|\"+ str(max(same_list))+'\\t' + '|'+str(min(same_list))+'\\t' + \"|\"+str(max(weighted_list))+'\\t' + '|'+str(min(weighted_list))+'\\t'\n",
    "    #print(same_list)\n",
    "    \n",
    "            if len(same_list) != 0:\n",
    "                max_same.append (max(same_list))\n",
    "                min_same.append(min(same_list))\n",
    "            else:\n",
    "                min_same.append(0)           \n",
    "                max_same.append(0)\n",
    "        \n",
    "            if len(weighted_list) != 0:\n",
    "                min_weighted.append(min(weighted_list))\n",
    "                max_weighted.append(max(weighted_list))\n",
    "            else:\n",
    "                min_weighted.append(0)\n",
    "                max_weighted.append(0)\n",
    "    #print(min_same)  \n",
    "          \n",
    "   # min_same.append(0)\n",
    "   # max_same.append(0)\n",
    "   # min_weighted.append(0)\n",
    "   # max_weighted.append(0)\n",
    "\n",
    "        if len(max_same) == 0:\n",
    "            a = 0\n",
    "            b = 0\n",
    "        else:\n",
    "            a = max(max_same)\n",
    "            b = min(max_same)\n",
    "        \n",
    "        if len(min_same) == 0:\n",
    "            c = 0\n",
    "            d = 0\n",
    "        else:\n",
    "            c = max(min_same)\n",
    "            d = min(min_same)\n",
    "        \n",
    "        if len(max_weighted) == 0:\n",
    "            e = 0\n",
    "            fk = 0\n",
    "        else:\n",
    "            e = max(max_weighted)\n",
    "            fk = min(max_weighted)\n",
    "        \n",
    "        if len(min_weighted) == 0:\n",
    "            g = 0\n",
    "            h = 0\n",
    "        else:\n",
    "            g = max(min_weighted)\n",
    "            h = min(min_weighted)\n",
    "        \n",
    "        stt = (\n",
    "        #'13250:'+str(a)+' 13251:'+str(b)+\n",
    "         #  ' 13252:'+str(c)+' 13253:'+str(d)\n",
    "          ' 13254:'+str(e)+' 13255:'+str(fk)+\n",
    "          ' 13256:'+str(g)+' 13257:'+str(h)\n",
    "        )\n",
    "   # print(stt)\n",
    "        of.write(stt.strip()+' # '+line+'\\n')\n",
    "        stt = (\n",
    "        '13250:'+str(a)+' 13251:'+str(b)+\n",
    "           ' 13252:'+str(c)+' 13253:'+str(d) +\n",
    "          ' 13254:'+str(e)+' 13255:'+str(fk)+\n",
    "         ' 13256:'+str(g)+' 13257:'+str(h)\n",
    "        )\n",
    "   # print(stt)\n",
    "        of2.write(stt.strip()+' # '+line+'\\n')\n",
    "        stt = (\n",
    "        '13250:'+str(a)+' 13251:'+str(b)+\n",
    "           ' 13252:'+str(c)+' 13253:'+str(d)\n",
    "         # ' 13254:'+str(e)+' 13255:'+str(fk)+\n",
    "         # ' 13256:'+str(g)+' 13257:'+str(h)\n",
    "        )\n",
    "   # print(stt)\n",
    "        of3.write(stt.strip()+' # '+line+'\\n')\n",
    "\n",
    "\n",
    "    of.close()\n",
    "    of3.close()\n",
    "    of2.close()\n",
    "    f.close()\n",
    "    \n",
    "\n",
    "filename = '/Users/adityaj/DeepLearning/Datasets/GoodReads/sarcasm_vs_philosophy/run1/test'\n",
    "func_re_func(filename)\n",
    "\n",
    "filename = '/Users/adityaj/DeepLearning/Datasets/GoodReads/sarcasm_vs_philosophy/run2/test'\n",
    "func_re_func(filename)\n",
    "\n",
    "filename = '/Users/adityaj/DeepLearning/Datasets/GoodReads/sarcasm_vs_philosophy/run3/test'\n",
    "func_re_func(filename)\n",
    "\n",
    "filename = '/Users/adityaj/DeepLearning/Datasets/GoodReads/sarcasm_vs_philosophy/run4/test'\n",
    "func_re_func(filename)\n",
    "\n",
    "filename = '/Users/adityaj/DeepLearning/Datasets/GoodReads/sarcasm_vs_philosophy/run5/test'\n",
    "func_re_func(filename)\n",
    "\n",
    "\n",
    "filename = '/Users/adityaj/DeepLearning/Datasets/GoodReads/sarcasm_vs_philosophy/run1/train'\n",
    "func_re_func(filename)\n",
    "\n",
    "filename = '/Users/adityaj/DeepLearning/Datasets/GoodReads/sarcasm_vs_philosophy/run2/train'\n",
    "func_re_func(filename)\n",
    "\n",
    "filename = '/Users/adityaj/DeepLearning/Datasets/GoodReads/sarcasm_vs_philosophy/run3/train'\n",
    "func_re_func(filename)\n",
    "\n",
    "filename = '/Users/adityaj/DeepLearning/Datasets/GoodReads/sarcasm_vs_philosophy/run4/train'\n",
    "func_re_func(filename)\n",
    "\n",
    "filename = '/Users/adityaj/DeepLearning/Datasets/GoodReads/sarcasm_vs_philosophy/run5/train'\n",
    "func_re_func(filename)"
   ]
  },
  {
   "cell_type": "code",
   "execution_count": null,
   "metadata": {
    "collapsed": true
   },
   "outputs": [],
   "source": [
    "def f3(seq):\n",
    "   # Not order preserving\n",
    "   keys = {}\n",
    "   for e in seq:\n",
    "       keys[e] = 1\n",
    "   return list(keys.keys())"
   ]
  },
  {
   "cell_type": "code",
   "execution_count": 37,
   "metadata": {
    "collapsed": false
   },
   "outputs": [
    {
     "data": {
      "text/plain": [
       "[1, 2, 3, 4, 5, 6]"
      ]
     },
     "execution_count": 37,
     "metadata": {},
     "output_type": "execute_result"
    }
   ],
   "source": [
    "f3([1,2,3,4,5,6,1])"
   ]
  },
  {
   "cell_type": "code",
   "execution_count": 3,
   "metadata": {
    "collapsed": true
   },
   "outputs": [],
   "source": [
    "def get_distance(sentence):\n",
    "    dic1 = {}\n",
    "    words = sentence.split(' ')\n",
    "    index = 0\n",
    "    for word in words:\n",
    "        dic1[word] = index\n",
    "        index += 1\n",
    "    return dic1"
   ]
  },
  {
   "cell_type": "code",
   "execution_count": 59,
   "metadata": {
    "collapsed": false
   },
   "outputs": [],
   "source": [
    "dic1 = get_distance(sentence)"
   ]
  },
  {
   "cell_type": "code",
   "execution_count": 1,
   "metadata": {
    "collapsed": true
   },
   "outputs": [],
   "source": [
    "import re\n",
    "from sklearn.metrics.pairwise import cosine_similarity;\n",
    "import warnings\n",
    "warnings.filterwarnings('ignore')\n",
    "\n",
    "import pickle\n",
    "with open('/Users/adityaj/DeepLearning/filtered_models/dependency.pkl_filtered', 'rb') as infile:\n",
    "    model = pickle.load( infile);\n",
    "\n",
    "def f3(seq):\n",
    "   # Not order preserving\n",
    "   keys = {}\n",
    "   for e in seq:\n",
    "       keys[e] = 1\n",
    "   return list(keys.keys())\n",
    "\n",
    "\n",
    "def get_distance(sentence):\n",
    "    dic1 = {}\n",
    "    words = sentence.split(' ')\n",
    "    index = 0\n",
    "    for word in words:\n",
    "        dic1[word] = index\n",
    "        index += 1\n",
    "    return dic1\n",
    "\n",
    "\n",
    "\n",
    "\n",
    "def func_re_func(filename):\n",
    "    f = open(filename,'r')\n",
    "    of = open(filename+'.wv_weighted.depwords.int','w')\n",
    "    of2 = open(filename+'.wv_both.depwords.int','w')\n",
    "    of3 = open(filename+'.wv_unweighted.depwords.int','w')\n",
    "    for line in f:\n",
    "        line = line.strip().lower()    \n",
    "        contents = line.split('\\t')\n",
    "        sentence = contents[0]\n",
    "        words = re.findall(r\"[\\w']+|[.,!?;]\",sentence)\n",
    "        \n",
    "        max_same = []\n",
    "        min_same = []\n",
    "        max_weighted = []\n",
    "        min_weighted = []\n",
    "\n",
    "        word_list = f3(sentence.split(' '))\n",
    "\n",
    "        dic1 = get_distance(sentence)\n",
    "    \n",
    "    \n",
    "\n",
    "        for e1 in word_list:\n",
    "            if e1 not in model.keys():\n",
    "                continue\n",
    "            output = e1+\"\\t\"\n",
    "            same_list = []\n",
    "            weighted_list = []\n",
    "            for e2 in word_list:\n",
    "            \n",
    "                if e2 not in model.keys():\n",
    "                    continue\n",
    "                \n",
    "                if e1 == e2:\n",
    "         #   output += '0\\t'\n",
    "                    continue\n",
    "            \n",
    "                weighted_list.append(cosine_similarity( model[e1], model[e2])[ 0][ 0]/(dic1[e1] - dic1[e2])*2)\n",
    "                same_list.append(cosine_similarity( model[e1], model[e2])[ 0][ 0])\n",
    "            \n",
    "           \n",
    "    \n",
    "    #print (weighted_list)\n",
    "        #output += str(mo.similarity(e1,e2))+'\\t'\n",
    "        #output += \"|\"+ str(max(same_list))+'\\t' + '|'+str(min(same_list))+'\\t' + \"|\"+str(max(weighted_list))+'\\t' + '|'+str(min(weighted_list))+'\\t'\n",
    "    #print(same_list)\n",
    "    \n",
    "            if len(same_list) != 0:\n",
    "                max_same.append (max(same_list))\n",
    "                min_same.append(min(same_list))\n",
    "            else:\n",
    "                min_same.append(0)           \n",
    "                max_same.append(0)\n",
    "        \n",
    "            if len(weighted_list) != 0:\n",
    "                min_weighted.append(min(weighted_list))\n",
    "                max_weighted.append(max(weighted_list))\n",
    "            else:\n",
    "                min_weighted.append(0)\n",
    "                max_weighted.append(0)\n",
    "    #print(min_same)  \n",
    "          \n",
    "   # min_same.append(0)\n",
    "   # max_same.append(0)\n",
    "   # min_weighted.append(0)\n",
    "   # max_weighted.append(0)\n",
    "\n",
    "        if len(max_same) == 0:\n",
    "            a = 0\n",
    "            b = 0\n",
    "        else:\n",
    "            a = max(max_same)\n",
    "            b = min(max_same)\n",
    "        \n",
    "        if len(min_same) == 0:\n",
    "            c = 0\n",
    "            d = 0\n",
    "        else:\n",
    "            c = max(min_same)\n",
    "            d = min(min_same)\n",
    "        \n",
    "        if len(max_weighted) == 0:\n",
    "            e = 0\n",
    "            fk = 0\n",
    "        else:\n",
    "            e = max(max_weighted)\n",
    "            fk = min(max_weighted)\n",
    "        \n",
    "        if len(min_weighted) == 0:\n",
    "            g = 0\n",
    "            h = 0\n",
    "        else:\n",
    "            g = max(min_weighted)\n",
    "            h = min(min_weighted)\n",
    "        \n",
    "        stt = (\n",
    "        #'13250:'+str(a)+' 13251:'+str(b)+\n",
    "         #  ' 13252:'+str(c)+' 13253:'+str(d)\n",
    "          ' 13254:'+str(e)+' 13255:'+str(fk)+\n",
    "          ' 13256:'+str(g)+' 13257:'+str(h)\n",
    "        )\n",
    "   # print(stt)\n",
    "        of.write(stt.strip()+' # '+line+'\\n')\n",
    "        stt = (\n",
    "        '13250:'+str(a)+' 13251:'+str(b)+\n",
    "           ' 13252:'+str(c)+' 13253:'+str(d) +\n",
    "          ' 13254:'+str(e)+' 13255:'+str(fk)+\n",
    "         ' 13256:'+str(g)+' 13257:'+str(h)\n",
    "        )\n",
    "   # print(stt)\n",
    "        of2.write(stt.strip()+' # '+line+'\\n')\n",
    "    \n",
    "       \n",
    "        stt = (\n",
    "        '13250:'+str(a)+' 13251:'+str(b)+\n",
    "           ' 13252:'+str(c)+' 13253:'+str(d) \n",
    "        #  ' 13254:'+str(e)+' 13255:'+str(fk)+\n",
    "        # ' 13256:'+str(g)+' 13257:'+str(h)\n",
    "        )\n",
    "   # print(stt)\n",
    "        of3.write(stt.strip()+' # '+line+'\\n')\n",
    "\n",
    "    of.close()\n",
    "    of2.close()\n",
    "    of3.close()\n",
    "    f.close()\n",
    "    \n",
    "\n",
    "filename = '/Users/adityaj/DeepLearning/Datasets/GoodReads/sarcasm_vs_philosophy/run1/test'\n",
    "func_re_func(filename)\n",
    "\n",
    "filename = '/Users/adityaj/DeepLearning/Datasets/GoodReads/sarcasm_vs_philosophy/run2/test'\n",
    "func_re_func(filename)\n",
    "\n",
    "filename = '/Users/adityaj/DeepLearning/Datasets/GoodReads/sarcasm_vs_philosophy/run3/test'\n",
    "func_re_func(filename)\n",
    "\n",
    "filename = '/Users/adityaj/DeepLearning/Datasets/GoodReads/sarcasm_vs_philosophy/run4/test'\n",
    "func_re_func(filename)\n",
    "\n",
    "filename = '/Users/adityaj/DeepLearning/Datasets/GoodReads/sarcasm_vs_philosophy/run5/test'\n",
    "func_re_func(filename)\n",
    "\n",
    "\n",
    "filename = '/Users/adityaj/DeepLearning/Datasets/GoodReads/sarcasm_vs_philosophy/run1/train'\n",
    "func_re_func(filename)\n",
    "\n",
    "filename = '/Users/adityaj/DeepLearning/Datasets/GoodReads/sarcasm_vs_philosophy/run2/train'\n",
    "func_re_func(filename)\n",
    "\n",
    "filename = '/Users/adityaj/DeepLearning/Datasets/GoodReads/sarcasm_vs_philosophy/run3/train'\n",
    "func_re_func(filename)\n",
    "\n",
    "filename = '/Users/adityaj/DeepLearning/Datasets/GoodReads/sarcasm_vs_philosophy/run4/train'\n",
    "func_re_func(filename)\n",
    "\n",
    "filename = '/Users/adityaj/DeepLearning/Datasets/GoodReads/sarcasm_vs_philosophy/run5/train'\n",
    "func_re_func(filename)"
   ]
  },
  {
   "cell_type": "code",
   "execution_count": 4,
   "metadata": {
    "collapsed": false
   },
   "outputs": [],
   "source": [
    "import re\n",
    "from sklearn.metrics.pairwise import cosine_similarity;\n",
    "import warnings\n",
    "warnings.filterwarnings('ignore')\n",
    "\n",
    "import pickle\n",
    "with open('/Users/adityaj/DeepLearning/filtered_models/glove.840B.300d.pkl_filtered', 'rb') as infile:\n",
    "    model = pickle.load( infile);\n",
    "\n",
    "def f3(seq):\n",
    "   # Not order preserving\n",
    "   keys = {}\n",
    "   for e in seq:\n",
    "       keys[e] = 1\n",
    "   return list(keys.keys())\n",
    "\n",
    "\n",
    "def get_distance(sentence):\n",
    "    dic1 = {}\n",
    "    words = sentence.split(' ')\n",
    "    index = 0\n",
    "    for word in words:\n",
    "        dic1[word] = index\n",
    "        index += 1\n",
    "    return dic1\n",
    "\n",
    "\n",
    "\n",
    "\n",
    "def func_re_func(filename):\n",
    "    f = open(filename,'r')\n",
    "    of = open(filename+'.wv_weighted.glove.int','w')\n",
    "    of2 = open(filename+'.wv_both.glove.int','w')\n",
    "    of3 = open(filename+'.wv_unweighted.glove.int','w')\n",
    "    for line in f:\n",
    "        line = line.strip().lower()    \n",
    "        contents = line.split('\\t')\n",
    "        sentence = contents[0]\n",
    "        words = re.findall(r\"[\\w']+|[.,!?;]\",sentence)\n",
    "        \n",
    "        max_same = []\n",
    "        min_same = []\n",
    "        max_weighted = []\n",
    "        min_weighted = []\n",
    "\n",
    "        word_list = f3(sentence.split(' '))\n",
    "\n",
    "        dic1 = get_distance(sentence)\n",
    "    \n",
    "    \n",
    "\n",
    "        for e1 in word_list:\n",
    "            if e1 not in model.keys():\n",
    "                continue\n",
    "            output = e1+\"\\t\"\n",
    "            same_list = []\n",
    "            weighted_list = []\n",
    "            for e2 in word_list:\n",
    "            \n",
    "                if e2 not in model.keys():\n",
    "                    continue\n",
    "                \n",
    "                if e1 == e2:\n",
    "         #   output += '0\\t'\n",
    "                    continue\n",
    "            \n",
    "                weighted_list.append(cosine_similarity( model[e1], model[e2])[ 0][ 0]/(dic1[e1] - dic1[e2])*2)\n",
    "                same_list.append(cosine_similarity( model[e1], model[e2])[ 0][ 0])\n",
    "            \n",
    "           \n",
    "    \n",
    "    #print (weighted_list)\n",
    "        #output += str(mo.similarity(e1,e2))+'\\t'\n",
    "        #output += \"|\"+ str(max(same_list))+'\\t' + '|'+str(min(same_list))+'\\t' + \"|\"+str(max(weighted_list))+'\\t' + '|'+str(min(weighted_list))+'\\t'\n",
    "    #print(same_list)\n",
    "    \n",
    "            if len(same_list) != 0:\n",
    "                max_same.append (max(same_list))\n",
    "                min_same.append(min(same_list))\n",
    "            else:\n",
    "                min_same.append(0)           \n",
    "                max_same.append(0)\n",
    "        \n",
    "            if len(weighted_list) != 0:\n",
    "                min_weighted.append(min(weighted_list))\n",
    "                max_weighted.append(max(weighted_list))\n",
    "            else:\n",
    "                min_weighted.append(0)\n",
    "                max_weighted.append(0)\n",
    "    #print(min_same)  \n",
    "          \n",
    "   # min_same.append(0)\n",
    "   # max_same.append(0)\n",
    "   # min_weighted.append(0)\n",
    "   # max_weighted.append(0)\n",
    "\n",
    "        if len(max_same) == 0:\n",
    "            a = 0\n",
    "            b = 0\n",
    "        else:\n",
    "            a = max(max_same)\n",
    "            b = min(max_same)\n",
    "        \n",
    "        if len(min_same) == 0:\n",
    "            c = 0\n",
    "            d = 0\n",
    "        else:\n",
    "            c = max(min_same)\n",
    "            d = min(min_same)\n",
    "        \n",
    "        if len(max_weighted) == 0:\n",
    "            e = 0\n",
    "            fk = 0\n",
    "        else:\n",
    "            e = max(max_weighted)\n",
    "            fk = min(max_weighted)\n",
    "        \n",
    "        if len(min_weighted) == 0:\n",
    "            g = 0\n",
    "            h = 0\n",
    "        else:\n",
    "            g = max(min_weighted)\n",
    "            h = min(min_weighted)\n",
    "        \n",
    "        stt = (\n",
    "        #'13250:'+str(a)+' 13251:'+str(b)+\n",
    "         #  ' 13252:'+str(c)+' 13253:'+str(d)\n",
    "          ' 13254:'+str(e)+' 13255:'+str(fk)+\n",
    "          ' 13256:'+str(g)+' 13257:'+str(h)\n",
    "        )\n",
    "   # print(stt)\n",
    "        of.write(stt.strip()+' # '+line+'\\n')\n",
    "        stt = (\n",
    "        '13250:'+str(a)+' 13251:'+str(b)+\n",
    "           ' 13252:'+str(c)+' 13253:'+str(d) +\n",
    "          ' 13254:'+str(e)+' 13255:'+str(fk)+\n",
    "         ' 13256:'+str(g)+' 13257:'+str(h)\n",
    "        )\n",
    "   # print(stt)\n",
    "        of2.write(stt.strip()+' # '+line+'\\n')\n",
    "    \n",
    "       \n",
    "        stt = (\n",
    "        '13250:'+str(a)+' 13251:'+str(b)+\n",
    "           ' 13252:'+str(c)+' 13253:'+str(d) \n",
    "        #  ' 13254:'+str(e)+' 13255:'+str(fk)+\n",
    "        # ' 13256:'+str(g)+' 13257:'+str(h)\n",
    "        )\n",
    "   # print(stt)\n",
    "        of3.write(stt.strip()+' # '+line+'\\n')\n",
    "\n",
    "    of.close()\n",
    "    of2.close()\n",
    "    of3.close()\n",
    "    f.close()\n",
    "    \n",
    "\n",
    "filename = '/Users/adityaj/DeepLearning/Datasets/GoodReads/sarcasm_vs_philosophy/run1/test'\n",
    "func_re_func(filename)\n",
    "\n",
    "filename = '/Users/adityaj/DeepLearning/Datasets/GoodReads/sarcasm_vs_philosophy/run2/test'\n",
    "func_re_func(filename)\n",
    "\n",
    "filename = '/Users/adityaj/DeepLearning/Datasets/GoodReads/sarcasm_vs_philosophy/run3/test'\n",
    "func_re_func(filename)\n",
    "\n",
    "filename = '/Users/adityaj/DeepLearning/Datasets/GoodReads/sarcasm_vs_philosophy/run4/test'\n",
    "func_re_func(filename)\n",
    "\n",
    "filename = '/Users/adityaj/DeepLearning/Datasets/GoodReads/sarcasm_vs_philosophy/run5/test'\n",
    "func_re_func(filename)\n",
    "\n",
    "\n",
    "filename = '/Users/adityaj/DeepLearning/Datasets/GoodReads/sarcasm_vs_philosophy/run1/train'\n",
    "func_re_func(filename)\n",
    "\n",
    "filename = '/Users/adityaj/DeepLearning/Datasets/GoodReads/sarcasm_vs_philosophy/run2/train'\n",
    "func_re_func(filename)\n",
    "\n",
    "filename = '/Users/adityaj/DeepLearning/Datasets/GoodReads/sarcasm_vs_philosophy/run3/train'\n",
    "func_re_func(filename)\n",
    "\n",
    "filename = '/Users/adityaj/DeepLearning/Datasets/GoodReads/sarcasm_vs_philosophy/run4/train'\n",
    "func_re_func(filename)\n",
    "\n",
    "filename = '/Users/adityaj/DeepLearning/Datasets/GoodReads/sarcasm_vs_philosophy/run5/train'\n",
    "func_re_func(filename)"
   ]
  },
  {
   "cell_type": "code",
   "execution_count": 13,
   "metadata": {
    "collapsed": true
   },
   "outputs": [],
   "source": [
    "from gensim.models import doc2vec as dv"
   ]
  },
  {
   "cell_type": "code",
   "execution_count": 14,
   "metadata": {
    "collapsed": false
   },
   "outputs": [
    {
     "ename": "NameError",
     "evalue": "name 'Doc2Vec' is not defined",
     "output_type": "error",
     "traceback": [
      "\u001b[0;31m---------------------------------------------------------------------------\u001b[0m",
      "\u001b[0;31mNameError\u001b[0m                                 Traceback (most recent call last)",
      "\u001b[0;32m<ipython-input-14-b41f1990bd72>\u001b[0m in \u001b[0;36m<module>\u001b[0;34m()\u001b[0m\n\u001b[0;32m----> 1\u001b[0;31m \u001b[0mmodel\u001b[0m \u001b[0;34m=\u001b[0m \u001b[0mDoc2Vec\u001b[0m\u001b[0;34m(\u001b[0m\u001b[0mdocuments\u001b[0m\u001b[0;34m,\u001b[0m \u001b[0msize\u001b[0m\u001b[0;34m=\u001b[0m\u001b[0;36m100\u001b[0m\u001b[0;34m,\u001b[0m \u001b[0mwindow\u001b[0m\u001b[0;34m=\u001b[0m\u001b[0;36m8\u001b[0m\u001b[0;34m,\u001b[0m \u001b[0mmin_count\u001b[0m\u001b[0;34m=\u001b[0m\u001b[0;36m5\u001b[0m\u001b[0;34m,\u001b[0m \u001b[0mworkers\u001b[0m\u001b[0;34m=\u001b[0m\u001b[0;36m4\u001b[0m\u001b[0;34m)\u001b[0m\u001b[0;34m\u001b[0m\u001b[0m\n\u001b[0m",
      "\u001b[0;31mNameError\u001b[0m: name 'Doc2Vec' is not defined"
     ]
    }
   ],
   "source": [
    " model = Doc2Vec(documents, size=100, window=8, min_count=5, workers=4)"
   ]
  },
  {
   "cell_type": "code",
   "execution_count": 16,
   "metadata": {
    "collapsed": false
   },
   "outputs": [
    {
     "ename": "NameError",
     "evalue": "name 'documents' is not defined",
     "output_type": "error",
     "traceback": [
      "\u001b[0;31m---------------------------------------------------------------------------\u001b[0m",
      "\u001b[0;31mNameError\u001b[0m                                 Traceback (most recent call last)",
      "\u001b[0;32m<ipython-input-16-89b1acfbf4b3>\u001b[0m in \u001b[0;36m<module>\u001b[0;34m()\u001b[0m\n\u001b[0;32m----> 1\u001b[0;31m \u001b[0mmodel\u001b[0m \u001b[0;34m=\u001b[0m \u001b[0mdv\u001b[0m\u001b[0;34m(\u001b[0m\u001b[0mdocuments\u001b[0m\u001b[0;34m,\u001b[0m \u001b[0msize\u001b[0m\u001b[0;34m=\u001b[0m\u001b[0;36m100\u001b[0m\u001b[0;34m,\u001b[0m \u001b[0mwindow\u001b[0m\u001b[0;34m=\u001b[0m\u001b[0;36m8\u001b[0m\u001b[0;34m,\u001b[0m \u001b[0mmin_count\u001b[0m\u001b[0;34m=\u001b[0m\u001b[0;36m5\u001b[0m\u001b[0;34m,\u001b[0m \u001b[0mworkers\u001b[0m\u001b[0;34m=\u001b[0m\u001b[0;36m4\u001b[0m\u001b[0;34m)\u001b[0m\u001b[0;34m\u001b[0m\u001b[0m\n\u001b[0m",
      "\u001b[0;31mNameError\u001b[0m: name 'documents' is not defined"
     ]
    }
   ],
   "source": [
    " model = dv(documents, size=100, window=8, min_count=5, workers=4)"
   ]
  },
  {
   "cell_type": "code",
   "execution_count": 19,
   "metadata": {
    "collapsed": false
   },
   "outputs": [
    {
     "ename": "TypeError",
     "evalue": "argument of type 'LazyCorpusLoader' is not iterable",
     "output_type": "error",
     "traceback": [
      "\u001b[0;31m---------------------------------------------------------------------------\u001b[0m",
      "\u001b[0;31mTypeError\u001b[0m                                 Traceback (most recent call last)",
      "\u001b[0;32m<ipython-input-19-08231a1fe007>\u001b[0m in \u001b[0;36m<module>\u001b[0;34m()\u001b[0m\n\u001b[1;32m     10\u001b[0m       \u001b[0;31m#  print(words)\u001b[0m\u001b[0;34m\u001b[0m\u001b[0;34m\u001b[0m\u001b[0m\n\u001b[1;32m     11\u001b[0m \u001b[0;34m\u001b[0m\u001b[0m\n\u001b[0;32m---> 12\u001b[0;31m \u001b[0mremove_stopwords\u001b[0m\u001b[0;34m(\u001b[0m\u001b[0msentence\u001b[0m\u001b[0;34m)\u001b[0m\u001b[0;34m\u001b[0m\u001b[0m\n\u001b[0m\u001b[1;32m     13\u001b[0m \u001b[0;34m\u001b[0m\u001b[0m\n\u001b[1;32m     14\u001b[0m \u001b[0;32mdef\u001b[0m \u001b[0mremove_stopwords\u001b[0m\u001b[0;34m(\u001b[0m\u001b[0msentence\u001b[0m\u001b[0;34m)\u001b[0m\u001b[0;34m:\u001b[0m\u001b[0;34m\u001b[0m\u001b[0m\n",
      "\u001b[0;32m<ipython-input-16-b65dfcfb991b>\u001b[0m in \u001b[0;36mremove_stopwords\u001b[0;34m(sentence)\u001b[0m\n\u001b[1;32m     12\u001b[0m \u001b[0;32mdef\u001b[0m \u001b[0mremove_stopwords\u001b[0m\u001b[0;34m(\u001b[0m\u001b[0msentence\u001b[0m\u001b[0;34m)\u001b[0m\u001b[0;34m:\u001b[0m\u001b[0;34m\u001b[0m\u001b[0m\n\u001b[1;32m     13\u001b[0m     \u001b[0mtextwords\u001b[0m \u001b[0;34m=\u001b[0m \u001b[0msentence\u001b[0m\u001b[0;34m.\u001b[0m\u001b[0msplit\u001b[0m\u001b[0;34m(\u001b[0m\u001b[0;34m' '\u001b[0m\u001b[0;34m)\u001b[0m\u001b[0;34m\u001b[0m\u001b[0m\n\u001b[0;32m---> 14\u001b[0;31m     \u001b[0mfilteredtext\u001b[0m \u001b[0;34m=\u001b[0m \u001b[0;34m[\u001b[0m\u001b[0mt\u001b[0m \u001b[0;32mfor\u001b[0m \u001b[0mt\u001b[0m \u001b[0;32min\u001b[0m \u001b[0mtextwords\u001b[0m \u001b[0;32mif\u001b[0m \u001b[0mt\u001b[0m\u001b[0;34m.\u001b[0m\u001b[0mlower\u001b[0m\u001b[0;34m(\u001b[0m\u001b[0;34m)\u001b[0m \u001b[0;32mnot\u001b[0m \u001b[0;32min\u001b[0m \u001b[0mstopwords\u001b[0m\u001b[0;34m]\u001b[0m\u001b[0;34m\u001b[0m\u001b[0m\n\u001b[0m",
      "\u001b[0;32m<ipython-input-16-b65dfcfb991b>\u001b[0m in \u001b[0;36m<listcomp>\u001b[0;34m(.0)\u001b[0m\n\u001b[1;32m     12\u001b[0m \u001b[0;32mdef\u001b[0m \u001b[0mremove_stopwords\u001b[0m\u001b[0;34m(\u001b[0m\u001b[0msentence\u001b[0m\u001b[0;34m)\u001b[0m\u001b[0;34m:\u001b[0m\u001b[0;34m\u001b[0m\u001b[0m\n\u001b[1;32m     13\u001b[0m     \u001b[0mtextwords\u001b[0m \u001b[0;34m=\u001b[0m \u001b[0msentence\u001b[0m\u001b[0;34m.\u001b[0m\u001b[0msplit\u001b[0m\u001b[0;34m(\u001b[0m\u001b[0;34m' '\u001b[0m\u001b[0;34m)\u001b[0m\u001b[0;34m\u001b[0m\u001b[0m\n\u001b[0;32m---> 14\u001b[0;31m     \u001b[0mfilteredtext\u001b[0m \u001b[0;34m=\u001b[0m \u001b[0;34m[\u001b[0m\u001b[0mt\u001b[0m \u001b[0;32mfor\u001b[0m \u001b[0mt\u001b[0m \u001b[0;32min\u001b[0m \u001b[0mtextwords\u001b[0m \u001b[0;32mif\u001b[0m \u001b[0mt\u001b[0m\u001b[0;34m.\u001b[0m\u001b[0mlower\u001b[0m\u001b[0;34m(\u001b[0m\u001b[0;34m)\u001b[0m \u001b[0;32mnot\u001b[0m \u001b[0;32min\u001b[0m \u001b[0mstopwords\u001b[0m\u001b[0;34m]\u001b[0m\u001b[0;34m\u001b[0m\u001b[0m\n\u001b[0m",
      "\u001b[0;31mTypeError\u001b[0m: argument of type 'LazyCorpusLoader' is not iterable"
     ]
    }
   ],
   "source": [
    "import re\n",
    "\n",
    "sentence = \"i am a boy\"\n",
    "stop_file = '/Users/adityaj/DeepLearning/Datasets/stopwords'\n",
    "f = open(stop_file,'r')\n",
    "stop_words = []\n",
    "for line in f:\n",
    "        words = re.findall(r\"[\\w']+|[.,!?';]\",line)\n",
    "        stop_words.append(words)\n",
    "      #  print(words)\n",
    "\n",
    "remove_stopwords(sentence)\n",
    "    \n",
    "def remove_stopwords(sentence):\n",
    "    textwords = sentence.split(' ')\n",
    "    filteredtext = [t for t in textwords if t.lower() not in stop_words]\n",
    "    print(filteredtext)"
   ]
  },
  {
   "cell_type": "code",
   "execution_count": 15,
   "metadata": {
    "collapsed": false
   },
   "outputs": [
    {
     "ename": "NameError",
     "evalue": "name 'word_list' is not defined",
     "output_type": "error",
     "traceback": [
      "\u001b[0;31m---------------------------------------------------------------------------\u001b[0m",
      "\u001b[0;31mNameError\u001b[0m                                 Traceback (most recent call last)",
      "\u001b[0;32m<ipython-input-15-a1195060a31c>\u001b[0m in \u001b[0;36m<module>\u001b[0;34m()\u001b[0m\n\u001b[1;32m      1\u001b[0m \u001b[0;32mfrom\u001b[0m \u001b[0mnltk\u001b[0m\u001b[0;34m.\u001b[0m\u001b[0mcorpus\u001b[0m \u001b[0;32mimport\u001b[0m \u001b[0mstopwords\u001b[0m\u001b[0;34m\u001b[0m\u001b[0m\n\u001b[0;32m----> 2\u001b[0;31m \u001b[0mfiltered_words\u001b[0m \u001b[0;34m=\u001b[0m \u001b[0;34m[\u001b[0m\u001b[0mword\u001b[0m \u001b[0;32mfor\u001b[0m \u001b[0mword\u001b[0m \u001b[0;32min\u001b[0m \u001b[0mword_list\u001b[0m \u001b[0;32mif\u001b[0m \u001b[0mword\u001b[0m \u001b[0;32mnot\u001b[0m \u001b[0;32min\u001b[0m \u001b[0mstopwords\u001b[0m\u001b[0;34m.\u001b[0m\u001b[0mwords\u001b[0m\u001b[0;34m(\u001b[0m\u001b[0;34m'english'\u001b[0m\u001b[0;34m)\u001b[0m\u001b[0;34m]\u001b[0m\u001b[0;34m\u001b[0m\u001b[0m\n\u001b[0m",
      "\u001b[0;31mNameError\u001b[0m: name 'word_list' is not defined"
     ]
    }
   ],
   "source": [
    "from nltk.corpus import stopwords\n",
    "filtered_words = [word for word in word_list if word not in stopwords.words('english')]\n",
    "def get_distance(sentence):\n",
    "    dic1 = {}\n",
    "    words = sentence.split(' ')\n",
    "    index = 0\n",
    "    for word in words:\n",
    "        dic1[word] = index\n",
    "        index += 1\n",
    "    return dic1"
   ]
  },
  {
   "cell_type": "code",
   "execution_count": 6,
   "metadata": {
    "collapsed": false
   },
   "outputs": [
    {
     "data": {
      "text/plain": [
       "'13250:0.766401 13251:0.15139 13252:0.0600201 13253:-0.0143146 13254:0.510934193929 13255:-0.0137775149196 13256:0.0465593747795 13257:-0.510934193929 # a man needs a woman like a fish needs bicycle\\n'"
      ]
     },
     "execution_count": 6,
     "metadata": {},
     "output_type": "execute_result"
    }
   ],
   "source": [
    "#For AAAI Demo\n",
    "\n",
    "import re\n",
    "from sklearn.metrics.pairwise import cosine_similarity;\n",
    "import warnings\n",
    "warnings.filterwarnings('ignore')\n",
    "\n",
    "import pickle\n",
    "with open('/Users/adityaj/DeepLearning/filtered_models/google.pkl_filtered', 'rb') as infile:\n",
    "    model = pickle.load( infile);\n",
    "\n",
    "def f3(seq):\n",
    "   # Not order preserving\n",
    "   keys = {}\n",
    "   for e in seq:\n",
    "       keys[e] = 1\n",
    "   return list(keys.keys())\n",
    "\n",
    "def get_distance(sentence):\n",
    "    dic1 = {}\n",
    "    words = sentence.split(' ')\n",
    "    index = 0\n",
    "    for word in words:\n",
    "        dic1[word] = index\n",
    "        index += 1\n",
    "    return dic1\n",
    "\n",
    "\n",
    "def get_wv_features(line):\n",
    "    line = line.strip().lower()    \n",
    "    contents = line.split('\\t')\n",
    "    sentence = contents[0]\n",
    "    words = re.findall(r\"[\\w']+|[.,!?;]\",sentence)\n",
    "        \n",
    "    max_same = []\n",
    "    min_same = []\n",
    "    max_weighted = []\n",
    "    min_weighted = []\n",
    "\n",
    "    word_list = f3(sentence.split(' '))\n",
    "\n",
    "    dic1 = get_distance(sentence)\n",
    "    \n",
    "    \n",
    "\n",
    "    for e1 in word_list:\n",
    "        if e1 not in model.keys():\n",
    "            continue\n",
    "        output = e1+\"\\t\"\n",
    "        same_list = []\n",
    "        weighted_list = []\n",
    "        for e2 in word_list:\n",
    "            \n",
    "            if e2 not in model.keys():\n",
    "                continue\n",
    "                \n",
    "            if e1 == e2:\n",
    "         #   output += '0\\t'\n",
    "                continue\n",
    "            \n",
    "            weighted_list.append(cosine_similarity( model[e1], model[e2])[ 0][ 0]/(dic1[e1] - dic1[e2])*2)\n",
    "            same_list.append(cosine_similarity( model[e1], model[e2])[ 0][ 0])\n",
    "                \n",
    "        if len(same_list) != 0:\n",
    "            max_same.append (max(same_list))\n",
    "            min_same.append(min(same_list))\n",
    "        else:\n",
    "            min_same.append(0)           \n",
    "            max_same.append(0)\n",
    "        \n",
    "        if len(weighted_list) != 0:\n",
    "            min_weighted.append(min(weighted_list))\n",
    "            max_weighted.append(max(weighted_list))\n",
    "        else:\n",
    "            min_weighted.append(0)\n",
    "            max_weighted.append(0)\n",
    "    #print(min_same)  \n",
    "          \n",
    "   # min_same.append(0)\n",
    "   # max_same.append(0)\n",
    "   # min_weighted.append(0)\n",
    "   # max_weighted.append(0)\n",
    "\n",
    "    if len(max_same) == 0:\n",
    "        a = 0\n",
    "        b = 0\n",
    "    else:\n",
    "        a = max(max_same)\n",
    "        b = min(max_same)\n",
    "        \n",
    "    if len(min_same) == 0:\n",
    "        c = 0\n",
    "        d = 0\n",
    "    else:\n",
    "        c = max(min_same)\n",
    "        d = min(min_same)\n",
    "        \n",
    "    if len(max_weighted) == 0:\n",
    "        e = 0\n",
    "        fk = 0\n",
    "    else:\n",
    "        e = max(max_weighted)\n",
    "        fk = min(max_weighted)\n",
    "        \n",
    "    if len(min_weighted) == 0:\n",
    "        g = 0\n",
    "        h = 0\n",
    "    else:\n",
    "        g = max(min_weighted)\n",
    "        h = min(min_weighted)\n",
    "        \n",
    "   \n",
    "    \n",
    "    stt = ('13250:'+str(a)+' 13251:'+str(b)+\n",
    "           ' 13252:'+str(c)+' 13253:'+str(d) +\n",
    "          ' 13254:'+str(e)+' 13255:'+str(fk)+\n",
    "         ' 13256:'+str(g)+' 13257:'+str(h)\n",
    "        )\n",
    "   # print(stt)\n",
    "    return(stt.strip()+' # '+line+'\\n')\n",
    "    \n",
    "get_wv_features(\"A man needs a woman like a fish needs bicycle\")"
   ]
  },
  {
   "cell_type": "code",
   "execution_count": null,
   "metadata": {
    "collapsed": true
   },
   "outputs": [],
   "source": []
  }
 ],
 "metadata": {
  "kernelspec": {
   "display_name": "Python 3",
   "language": "python",
   "name": "python3"
  },
  "language_info": {
   "codemirror_mode": {
    "name": "ipython",
    "version": 3
   },
   "file_extension": ".py",
   "mimetype": "text/x-python",
   "name": "python",
   "nbconvert_exporter": "python",
   "pygments_lexer": "ipython3",
   "version": "3.5.1"
  }
 },
 "nbformat": 4,
 "nbformat_minor": 0
}
