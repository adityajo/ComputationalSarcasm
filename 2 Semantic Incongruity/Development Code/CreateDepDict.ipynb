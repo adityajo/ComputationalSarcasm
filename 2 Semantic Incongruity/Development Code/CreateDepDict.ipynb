{
 "cells": [
  {
   "cell_type": "code",
   "execution_count": 21,
   "metadata": {
    "collapsed": true
   },
   "outputs": [],
   "source": [
    "import pickle\n",
    "reldec = []"
   ]
  },
  {
   "cell_type": "code",
   "execution_count": 22,
   "metadata": {
    "collapsed": false
   },
   "outputs": [],
   "source": [
    "count = 0\n",
    "with open('/Users/adityaj/Downloads/dep_rel.o','r') as f:\n",
    "    for line in f:\n",
    "        if len(line.split('\\t')) <=1:\n",
    "            continue\n",
    "        dep_list = line.split('\\t')[1].split(':')\n",
    "        for i in dep_list:\n",
    "            i = i.split('=')\n",
    "            if len(i)<=1:\n",
    "                continue\n",
    "            reldec.append((i[0],i[1]))\n",
    "            reldec.append((i[1],i[0]))\n",
    "\n",
    "pickle.dump(reldec, open('deprel.p','wb'))"
   ]
  },
  {
   "cell_type": "code",
   "execution_count": null,
   "metadata": {
    "collapsed": true
   },
   "outputs": [],
   "source": []
  },
  {
   "cell_type": "code",
   "execution_count": null,
   "metadata": {
    "collapsed": true
   },
   "outputs": [],
   "source": []
  },
  {
   "cell_type": "code",
   "execution_count": null,
   "metadata": {
    "collapsed": true
   },
   "outputs": [],
   "source": []
  }
 ],
 "metadata": {
  "kernelspec": {
   "display_name": "Python 3",
   "language": "python",
   "name": "python3"
  },
  "language_info": {
   "codemirror_mode": {
    "name": "ipython",
    "version": 3
   },
   "file_extension": ".py",
   "mimetype": "text/x-python",
   "name": "python",
   "nbconvert_exporter": "python",
   "pygments_lexer": "ipython3",
   "version": "3.5.1"
  }
 },
 "nbformat": 4,
 "nbformat_minor": 0
}
